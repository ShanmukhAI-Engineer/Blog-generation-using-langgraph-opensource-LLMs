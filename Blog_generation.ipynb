{
 "cells": [
  {
   "cell_type": "markdown",
   "metadata": {},
   "source": [
    "### Blog-Generation-using-Lamggraph-opensource-LLMs"
   ]
  },
  {
   "cell_type": "code",
   "execution_count": null,
   "metadata": {},
   "outputs": [],
   "source": [
    "import os\n",
    "from typing import TypedDict\n",
    "from typing import Dict, List, Tuple, Annotated\n",
    "from langgraph.graph import StateGraph\n",
    "from langsmith import traceable\n",
    "from langchain_core.prompts import ChatPromptTemplate\n",
    "from langchain_core.output_parsers import StrOutputParser\n",
    "from langgraph.constants import START, END\n",
    "from langchain_groq import ChatGroq\n",
    "from pydantic import BaseModel\n",
    "from typing import Optional, Any\n",
    "from dataclasses import dataclass\n",
    "from dotenv import load_dotenv\n",
    "load_dotenv()\n",
    "\n",
    "# Initialize LLM\n",
    "os.environ[\"GROQ_API_KEY\"] = os.getenv(\"GROQ_API_KEY\")\n",
    "llm=ChatGroq(model=\"qwen-2.5-32b\")"
   ]
  },
  {
   "cell_type": "code",
   "execution_count": 2,
   "metadata": {},
   "outputs": [],
   "source": [
    "# Define the states\n",
    "@dataclass\n",
    "class BlogState:\n",
    "    topic: Optional[str] = None\n",
    "    outline: Optional[str] = None\n",
    "    draft: Optional[str] = None\n",
    "    edited_draft: Optional[str] = None"
   ]
  },
  {
   "cell_type": "code",
   "execution_count": 3,
   "metadata": {},
   "outputs": [],
   "source": [
    "# Define the nodes (functions)\n",
    "def select_topic(state: BlogState):\n",
    "    prompt = ChatPromptTemplate.from_template(\"Suggest a blog topic: {user_request}\")\n",
    "    chain = prompt | llm | StrOutputParser()\n",
    "    topic = chain.invoke({\"user_request\": \"Suggest a popular and interesting blog topic.\"})\n",
    "    return {\"topic\": topic}\n",
    "\n",
    "def generate_outline(state: BlogState):\n",
    "    prompt = ChatPromptTemplate.from_template(\"Generate an outline for a blog about: {topic}\")\n",
    "    chain = prompt | llm | StrOutputParser()\n",
    "    outline = chain.invoke({\"topic\": state.topic})\n",
    "    return {\"outline\": outline}\n",
    "\n",
    "def draft_content(state: BlogState):\n",
    "    prompt = ChatPromptTemplate.from_template(\"Write a blog draft based on the following outline: {outline}\")\n",
    "    chain = prompt | llm | StrOutputParser()\n",
    "    draft = chain.invoke({\"outline\": state.outline})\n",
    "    return {\"draft\": draft}\n",
    "\n",
    "def review_and_edit(state: BlogState):\n",
    "    prompt = ChatPromptTemplate.from_template(\"Review and edit the following blog draft: {draft}\")\n",
    "    chain = prompt | llm | StrOutputParser()\n",
    "    edited_draft = chain.invoke({\"draft\": state.draft})\n",
    "    return {\"edited_draft\": edited_draft}"
   ]
  },
  {
   "cell_type": "code",
   "execution_count": 4,
   "metadata": {},
   "outputs": [],
   "source": [
    "def publishing(state: BlogState):\n",
    "    print(f\"Final Blog Draft: \\n{state.edited_draft}\")\n",
    "    return {}"
   ]
  },
  {
   "cell_type": "code",
   "execution_count": 5,
   "metadata": {},
   "outputs": [
    {
     "data": {
      "text/plain": [
       "<langgraph.graph.state.StateGraph at 0x2625cee9e50>"
      ]
     },
     "execution_count": 5,
     "metadata": {},
     "output_type": "execute_result"
    }
   ],
   "source": [
    "# Define the graph\n",
    "workflow = StateGraph(BlogState)\n",
    "workflow.add_node(\"topic_selection\", select_topic)\n",
    "workflow.add_node(\"outline_generation\", generate_outline)\n",
    "workflow.add_node(\"draft_content\", draft_content)\n",
    "workflow.add_node(\"review_and_edit\", review_and_edit)\n",
    "workflow.add_node(\"publishing\", publishing)"
   ]
  },
  {
   "cell_type": "code",
   "execution_count": 6,
   "metadata": {},
   "outputs": [
    {
     "data": {
      "text/plain": [
       "<langgraph.graph.state.StateGraph at 0x2625cee9e50>"
      ]
     },
     "execution_count": 6,
     "metadata": {},
     "output_type": "execute_result"
    }
   ],
   "source": [
    "# Define the edges\n",
    "workflow.add_edge(\"topic_selection\", \"outline_generation\")\n",
    "workflow.add_edge(\"outline_generation\", \"draft_content\")\n",
    "workflow.add_edge(\"draft_content\", \"review_and_edit\")\n",
    "workflow.add_edge(\"review_and_edit\", \"publishing\")\n",
    "workflow.set_entry_point(\"topic_selection\")"
   ]
  },
  {
   "cell_type": "code",
   "execution_count": 7,
   "metadata": {},
   "outputs": [],
   "source": [
    "chain = workflow.compile()"
   ]
  },
  {
   "cell_type": "code",
   "execution_count": 8,
   "metadata": {},
   "outputs": [
    {
     "data": {
      "image/png": "[encoded data removed]",
      "text/plain": [
       "<IPython.core.display.Image object>"
      ]
     },
     "metadata": {},
     "output_type": "display_data"
    }
   ],
   "source": [
    "from IPython.display import Image, display\n",
    "display(Image(chain.get_graph().draw_mermaid_png()))"
   ]
  },
  {
   "cell_type": "code",
   "execution_count": 9,
   "metadata": {},
   "outputs": [
    {
     "name": "stdout",
     "output_type": "stream",
     "text": [
      "Final Blog Draft: \n",
      "Your draft is well-structured and informative. Here are some edits to enhance clarity, flow, and engagement:\n",
      "\n",
      "### The Impact of Artificial Intelligence on Daily Life\n",
      "\n",
      "#### Introduction\n",
      "Artificial Intelligence (AI) is no longer a mere concept confined to futuristic novels and sci-fi movies. Today, it has seamlessly integrated into the fabric of our daily lives, revolutionizing industries, personal interactions, and even the way we enjoy entertainment. As we embrace this technological revolution, it's crucial to understand the profound influence AI has on shaping our world. This blog will explore how AI is reshaping healthcare, transportation, and entertainment, while also delving into the ethical considerations and everyday applications of AI that might surprise you.\n",
      "\n",
      "#### 1. AI in Healthcare\n",
      "AI's impact in healthcare is transforming the way diseases are diagnosed and treated. From AI-driven diagnostic tools that can analyze medical images with higher accuracy than human experts, to personalized treatment plans tailored to an individual's genetic makeup, the potential for AI in healthcare is immense. Personalized medicine, powered by AI, can significantly improve treatment outcomes and reduce potential side effects. Additionally, virtual health assistants, utilizing AI, offer 24/7 access to healthcare advice and support, making healthcare more accessible and personalized.\n",
      "\n",
      "#### 2. AI in Transportation\n",
      "In the transportation sector, AI is playing a pivotal role in making our roads safer, more efficient, and environmentally friendly. Autonomous vehicles, driven by sophisticated AI algorithms, are being tested and implemented globally, promising to reduce accidents and traffic congestion. Smart traffic management systems, which use AI to predict and manage traffic flow, are also revolutionizing urban environments. However, the integration of AI in transportation raises significant ethical questions, particularly concerning safety and accountability.\n",
      "\n",
      "#### 3. AI in Entertainment\n",
      "Entertainment has undergone a transformation through the seamless integration of AI. From AI-generated music and films that mimic human creativity to interactive video games that adapt to player behavior, AI is expanding the boundaries of content creation. Recommendation systems on streaming platforms like Netflix and Spotify, powered by AI, enhance the user experience by suggesting content based on individual preferences and behavior. This not only enriches the entertainment experience but also raises questions about privacy and the future of traditional content creation roles.\n",
      "\n",
      "#### 4. Ethical Considerations Surrounding AI\n",
      "Though AI offers numerous benefits, it also presents significant ethical challenges. Issues such as privacy violations, bias in algorithmic decisions, and job displacement due to automation are pressing concerns. Regulatory and ethical frameworks are being developed internationally to address these challenges, aiming to ensure that AI development is both ethical and beneficial to society. Case studies, such as the biases found in facial recognition technology, underscore the need for a thoughtful approach to AI development and deployment.\n",
      "\n",
      "#### 5. Everyday Applications of AI You Might Not Know About\n",
      "Many of us interact with AI daily without realizing it. Smart home devices like Alexa and Google Home, which use AI to understand and respond to voice commands, and personalized online shopping experiences that offer tailored recommendations based on browsing history, are just a few examples of AI's omnipresence. Understanding these applications can help users make more informed decisions and better appreciate the technology that enhances daily life.\n",
      "\n",
      "#### Conclusion\n",
      "AI is not just a tool of the future; it's a reality that is already shaping our lives. From life-saving innovations in healthcare to the enhancement of our entertainment experiences, AI's impact is vast and multifaceted. As we look toward the future, it's essential to engage critically with AI, understanding both its benefits and limitations and ethical implications. By staying informed and participating in discussions about AI, we can ensure that technological advancements benefit everyone and contribute positively to our society.\n",
      "\n",
      "#### Additional Elements\n",
      "- **Infographics and Visual Aids**: Use these to illustrate complex concepts, such as the workings of AI in diagnostics or the impact of AI on job markets.\n",
      "- **Quotes from Experts**: Include quotes from leading experts in AI, healthcare, and ethics to add depth and credibility to your points.\n",
      "- **Interactive Elements**: Incorporate quizzes or surveys to engage readers and gather their insights on AI.\n",
      "- **Call to Action**: Encourage readers to explore the resources you've linked, share their thoughts on social media, and stay updated on AI developments.\n",
      "\n",
      "This blog aims to be an informative and engaging read for anyone interested in the transformative power of AI and its role in shaping our future.\n"
     ]
    }
   ],
   "source": [
    "BlogState=chain.invoke({\"topic\":\"pydantic\"})"
   ]
  },
  {
   "cell_type": "code",
   "execution_count": 10,
   "metadata": {},
   "outputs": [
    {
     "data": {
      "text/plain": [
       "{'topic': 'How about exploring the topic of \"The Impact of Artificial Intelligence on Daily Life\"? This topic can cover various aspects such as how AI is changing industries like healthcare, transportation, and entertainment; the ethical considerations surrounding AI; and practical examples of AI technologies that people might not realize are part of their daily routines. This topic is both popular due to the increasing role of AI in our lives, and interesting as it touches on cutting-edge technology and its real-world applications.',\n",
       " 'outline': \"### Blog Outline: The Impact of Artificial Intelligence on Daily Life\\n\\n**Introduction**\\n- Brief overview of AI and its growing presence in daily life.\\n- Importance of understanding how AI is shaping our lives.\\n- Preview of the blog's main sections: industry impacts, ethical considerations, and everyday AI applications.\\n\\n**1. AI in Healthcare**\\n- Overview of AI's role in healthcare, from diagnostics to patient care.\\n- Specific examples such as AI-driven diagnostic tools, personalized treatment plans, and virtual health assistants.\\n- Benefits and improvements over traditional methods.\\n- Potential for future advancements and the integration of AI in personalized medicine and healthcare accessibility.\\n\\n**2. AI in Transportation**\\n- Exploration of AI's role in modern transportation systems.\\n- Case studies of autonomous vehicles and smart traffic management systems.\\n- Discussion of how AI is making transportation safer, more efficient, and environmentally friendly.\\n- Ethical considerations related to autonomy and safety.\\n\\n**3. AI in Entertainment**\\n- Examination of AI's influence on entertainment, from content creation to consumer experience.\\n- Examples of AI-generated music, films, and video games.\\n- Analysis of how AI enhances user experience through recommendation systems and interactive content.\\n- Consideration of the impact on creativity and job roles in the entertainment industry.\\n\\n**4. Ethical Considerations Surrounding AI**\\n- Discussion on the ethical implications of AI, including privacy, bias, and job displacement.\\n- Exploration of regulatory and ethical frameworks being developed to manage AI.\\n- Case studies or examples that highlight ethical dilemmas in AI deployment.\\n- Importance of ethical AI development and the role of the public in shaping AI policies.\\n\\n**5. Everyday Applications of AI You Might Not Know About**\\n- Introduction to less obvious but increasingly common AI applications.\\n- Examples ranging from smart home devices (like Alexa or Google Home) to AI-driven financial services and personalized online shopping experiences.\\n- Explanation of how these AI technologies work and their benefits to users.\\n- Encouragement for readers to recognize and engage with AI in their daily lives.\\n\\n**Conclusion**\\n- Recap of the key points discussed, emphasizing the pervasive and transformative nature of AI.\\n- Final thoughts on the future of AI and its role in shaping our daily lives.\\n- Call to action for readers to stay informed and engaged with AI developments.\\n\\n**Additional Elements**\\n- **Infographics and Visual Aids**: To help illustrate complex concepts and data.\\n- **Quotes from Experts**: To add credibility and a deeper understanding of the subject.\\n- **Interactive Elements**: Such as quizzes or surveys, to engage readers and gather feedback.\\n- **Call to Action**: Encouraging readers to explore AI further or to consider the ethical and societal impacts of AI technologies.\\n\\nThis outline provides a comprehensive structure for a blog post that not only informs readers about the various impacts of AI on daily life but also encourages them to think critically about the technology's role in society.\",\n",
       " 'draft': \"### The Impact of Artificial Intelligence on Daily Life\\n\\n#### Introduction\\nArtificial Intelligence (AI) is no longer a concept confined to futuristic novels and sci-fi movies. Today, it has seeped into the fabric of our daily lives, transforming industries, personal interactions, and even the way we enjoy entertainment. As we embrace this technological revolution, it's crucial to understand the profound influence AI has on shaping our world. This blog will explore how AI is reshaping healthcare, transportation, and entertainment, while also delving into the ethical considerations and everyday applications of AI that might surprise you.\\n\\n#### 1. AI in Healthcare\\nAI's role in healthcare is revolutionizing the way diseases are diagnosed and treated. From AI-driven diagnostic tools that can analyze medical images with higher accuracy than human experts, to personalized treatment plans that adapt based on an individual's genetic makeup, the potential for AI in healthcare is vast. Personalized medicine, through the use of AI, can significantly improve treatment outcomes and reduce potential side effects. Moreover, virtual health assistants, powered by AI, are providing 24/7 access to healthcare advice and support, making healthcare more accessible and personalized.\\n\\n#### 2. AI in Transportation\\nIn the realm of transportation, AI is instrumental in making our roads safer, more efficient, and environmentally friendly. Autonomous vehicles, driven by AI algorithms, are being tested and implemented in various parts of the world, promising to reduce accidents and traffic congestion. Smart traffic management systems, which use AI to predict and manage traffic flow, are also transforming urban environments. However, the integration of AI in transportation raises significant ethical questions, especially concerning safety and accountability.\\n\\n#### 3. AI in Entertainment\\nEntertainment has also seen a transformation through the integration of AI. From AI-generated music and films that simulate human creativity to interactive video games that adapt to player behavior, AI is expanding the horizons of what's possible in content creation. Recommendation systems on streaming platforms like Netflix and Spotify are also powered by AI, enhancing the user experience by suggesting content based on individual preferences and behavior. This not only enriches the entertainment experience but also raises questions about privacy and the impact on traditional content creation roles.\\n\\n#### 4. Ethical Considerations Surrounding AI\\nWhile AI offers numerous benefits, it also presents significant ethical challenges. Issues like privacy, bias in algorithmic decisions, and the displacement of jobs due to automation are critical concerns. Regulatory and ethical frameworks are being developed globally to manage these challenges, aiming to ensure that AI development is both ethical and beneficial to society. Case studies, such as the bias in facial recognition technology, highlight the need for a nuanced approach to AI development and deployment.\\n\\n#### 5. Everyday Applications of AI You Might Not Know About\\nMany of us interact with AI daily without realizing it. From the smart home devices like Alexa and Google Home, which use AI to understand and respond to voice commands, to personalized online shopping experiences that offer tailored recommendations based on browsing history, AI is omnipresent. Understanding these applications can help users make more informed decisions and appreciate the technology that enhances daily life.\\n\\n#### Conclusion\\nAI is not just a tool for the future; it's a reality that is shaping our lives today. From life-saving innovations in healthcare to the enhancement of our entertainment experiences, AI's impact is vast and multifaceted. As we look toward the future, it's essential to engage critically with AI, understanding its benefits as well as its limitations and ethical implications. By staying informed and participating in discussions about AI, we can ensure that the technological advancements benefit everyone and contribute positively to our society.\\n\\n#### Additional Elements\\n- **Infographics and Visual Aids**: Use these to illustrate complex concepts such as the workings of AI in diagnostics or the impact of AI on job markets.\\n- **Quotes from Experts**: Include quotes from leading experts in AI, healthcare, and ethics to add depth and credibility to your points.\\n- **Interactive Elements**: Incorporate quizzes or surveys to engage readers and gather feedback on their views and experiences with AI.\\n- **Call to Action**: Encourage readers to explore the resources you've linked, share their thoughts on social media, and stay updated on AI developments.\\n\\nThis blog aims to be an informative and engaging read for anyone curious about the transformative power of AI and its role in shaping our future.\",\n",
       " 'edited_draft': \"Your draft is well-structured and informative. Here are some edits to enhance clarity, flow, and engagement:\\n\\n### The Impact of Artificial Intelligence on Daily Life\\n\\n#### Introduction\\nArtificial Intelligence (AI) is no longer a mere concept confined to futuristic novels and sci-fi movies. Today, it has seamlessly integrated into the fabric of our daily lives, revolutionizing industries, personal interactions, and even the way we enjoy entertainment. As we embrace this technological revolution, it's crucial to understand the profound influence AI has on shaping our world. This blog will explore how AI is reshaping healthcare, transportation, and entertainment, while also delving into the ethical considerations and everyday applications of AI that might surprise you.\\n\\n#### 1. AI in Healthcare\\nAI's impact in healthcare is transforming the way diseases are diagnosed and treated. From AI-driven diagnostic tools that can analyze medical images with higher accuracy than human experts, to personalized treatment plans tailored to an individual's genetic makeup, the potential for AI in healthcare is immense. Personalized medicine, powered by AI, can significantly improve treatment outcomes and reduce potential side effects. Additionally, virtual health assistants, utilizing AI, offer 24/7 access to healthcare advice and support, making healthcare more accessible and personalized.\\n\\n#### 2. AI in Transportation\\nIn the transportation sector, AI is playing a pivotal role in making our roads safer, more efficient, and environmentally friendly. Autonomous vehicles, driven by sophisticated AI algorithms, are being tested and implemented globally, promising to reduce accidents and traffic congestion. Smart traffic management systems, which use AI to predict and manage traffic flow, are also revolutionizing urban environments. However, the integration of AI in transportation raises significant ethical questions, particularly concerning safety and accountability.\\n\\n#### 3. AI in Entertainment\\nEntertainment has undergone a transformation through the seamless integration of AI. From AI-generated music and films that mimic human creativity to interactive video games that adapt to player behavior, AI is expanding the boundaries of content creation. Recommendation systems on streaming platforms like Netflix and Spotify, powered by AI, enhance the user experience by suggesting content based on individual preferences and behavior. This not only enriches the entertainment experience but also raises questions about privacy and the future of traditional content creation roles.\\n\\n#### 4. Ethical Considerations Surrounding AI\\nThough AI offers numerous benefits, it also presents significant ethical challenges. Issues such as privacy violations, bias in algorithmic decisions, and job displacement due to automation are pressing concerns. Regulatory and ethical frameworks are being developed internationally to address these challenges, aiming to ensure that AI development is both ethical and beneficial to society. Case studies, such as the biases found in facial recognition technology, underscore the need for a thoughtful approach to AI development and deployment.\\n\\n#### 5. Everyday Applications of AI You Might Not Know About\\nMany of us interact with AI daily without realizing it. Smart home devices like Alexa and Google Home, which use AI to understand and respond to voice commands, and personalized online shopping experiences that offer tailored recommendations based on browsing history, are just a few examples of AI's omnipresence. Understanding these applications can help users make more informed decisions and better appreciate the technology that enhances daily life.\\n\\n#### Conclusion\\nAI is not just a tool of the future; it's a reality that is already shaping our lives. From life-saving innovations in healthcare to the enhancement of our entertainment experiences, AI's impact is vast and multifaceted. As we look toward the future, it's essential to engage critically with AI, understanding both its benefits and limitations and ethical implications. By staying informed and participating in discussions about AI, we can ensure that technological advancements benefit everyone and contribute positively to our society.\\n\\n#### Additional Elements\\n- **Infographics and Visual Aids**: Use these to illustrate complex concepts, such as the workings of AI in diagnostics or the impact of AI on job markets.\\n- **Quotes from Experts**: Include quotes from leading experts in AI, healthcare, and ethics to add depth and credibility to your points.\\n- **Interactive Elements**: Incorporate quizzes or surveys to engage readers and gather their insights on AI.\\n- **Call to Action**: Encourage readers to explore the resources you've linked, share their thoughts on social media, and stay updated on AI developments.\\n\\nThis blog aims to be an informative and engaging read for anyone interested in the transformative power of AI and its role in shaping our future.\"}"
      ]
     },
     "execution_count": 10,
     "metadata": {},
     "output_type": "execute_result"
    }
   ],
   "source": [
    "BlogState"
   ]
  }
 ],
 "metadata": {
  "kernelspec": {
   "display_name": "Python 3",
   "language": "python",
   "name": "python3"
  },
  "language_info": {
   "codemirror_mode": {
    "name": "ipython",
    "version": 3
   },
   "file_extension": ".py",
   "mimetype": "text/x-python",
   "name": "python",
   "nbconvert_exporter": "python",
   "pygments_lexer": "ipython3",
   "version": "3.12.0"
  }
 },
 "nbformat": 4,
 "nbformat_minor": 2
}
